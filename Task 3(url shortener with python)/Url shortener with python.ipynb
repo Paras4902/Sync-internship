{
 "cells": [
  {
   "cell_type": "code",
   "execution_count": 3,
   "metadata": {},
   "outputs": [
    {
     "name": "stdout",
     "output_type": "stream",
     "text": [
      "Enter the link :https://www.linkedin.com/in/paras-udapurkar-68aa58195/\n",
      "https://tinyurl.com/2k3u2v3p\n"
     ]
    }
   ],
   "source": [
    "import pyshorteners\n",
    "\n",
    "link=input(\"Enter the link :\") \n",
    "\n",
    "shortener=pyshorteners.Shortener()\n",
    "\n",
    "x=shortener.tinyurl.short(link)\n",
    "\n",
    "print(x)"
   ]
  },
  {
   "cell_type": "code",
   "execution_count": null,
   "metadata": {},
   "outputs": [],
   "source": []
  }
 ],
 "metadata": {
  "kernelspec": {
   "display_name": "Python 3 (ipykernel)",
   "language": "python",
   "name": "python3"
  },
  "language_info": {
   "codemirror_mode": {
    "name": "ipython",
    "version": 3
   },
   "file_extension": ".py",
   "mimetype": "text/x-python",
   "name": "python",
   "nbconvert_exporter": "python",
   "pygments_lexer": "ipython3",
   "version": "3.10.10"
  }
 },
 "nbformat": 4,
 "nbformat_minor": 4
}
